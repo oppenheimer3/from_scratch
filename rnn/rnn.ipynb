{
  "cells": [
    {
      "cell_type": "code",
      "execution_count": 2,
      "metadata": {
        "id": "3yyGgR_GpZYu"
      },
      "outputs": [],
      "source": [
        "import torch\n",
        "import torch.nn as nn\n",
        "import torch.optim as optim"
      ]
    },
    {
      "cell_type": "code",
      "execution_count": 3,
      "metadata": {
        "id": "rK-9kxf_5GeA"
      },
      "outputs": [],
      "source": [
        "temperatures = [\n",
        "    72, 73, 75, 78, 80, 82, 85, 87, 88, 85,\n",
        "    81, 78, 76, 74, 73, 72, 71, 72, 74, 76,\n",
        "    79, 82, 85, 88, 90, 92, 93, 92, 89, 86\n",
        "]\n",
        "data = []\n",
        "labels = []\n",
        "for t in range(30):\n",
        "    if t % 4 ==0 and t != 0:\n",
        "      data.append([x for x in temperatures[t-4:t]])\n",
        "      labels.append(temperatures[t])\n",
        "data = torch.tensor(data, dtype=torch.float32)\n",
        "labels = torch.tensor(labels, dtype=torch.float32)"
      ]
    },
    {
      "cell_type": "markdown",
      "metadata": {},
      "source": [
        "***The RNN class***"
      ]
    },
    {
      "cell_type": "code",
      "execution_count": 4,
      "metadata": {
        "id": "_HGSBvI-y-nl"
      },
      "outputs": [],
      "source": [
        "class RNN(nn.Module):\n",
        "  def __init__(self, i_l, h_l, o_l) -> None:\n",
        "    super().__init__()\n",
        "    self.x_to_h = nn.Linear(i_l, h_l)\n",
        "    self.h_to_h = nn.Linear(h_l, h_l)\n",
        "    self.tanh = nn.ReLU()\n",
        "    self.h_to_o = nn.Linear(h_l, o_l)\n",
        "    # self.h = torch.zeros(h_l, dtype=torch.float32)\n",
        "  def forward(self, x, h):\n",
        "    x = self.x_to_h(x)\n",
        "    a = self.h_to_h(h)\n",
        "    ht = self.tanh(x + a)\n",
        "    return ht, self.h_to_o(ht)"
      ]
    },
    {
      "cell_type": "code",
      "execution_count": 5,
      "metadata": {
        "colab": {
          "base_uri": "https://localhost:8080/"
        },
        "id": "4eZ_PeVO59Ty",
        "outputId": "95e17ec2-9037-45e4-9321-1cd6dce0980e"
      },
      "outputs": [
        {
          "name": "stdout",
          "output_type": "stream",
          "text": [
            "Epoch [1/1000], Loss: 2050.0366\n",
            "Epoch [101/1000], Loss: 17.7927\n",
            "Epoch [201/1000], Loss: 10.4953\n",
            "Epoch [301/1000], Loss: 3.2797\n",
            "Epoch [401/1000], Loss: 1.1013\n",
            "Epoch [501/1000], Loss: 0.5913\n",
            "Epoch [601/1000], Loss: 0.4143\n",
            "Epoch [701/1000], Loss: 0.3458\n",
            "Epoch [801/1000], Loss: 0.2988\n",
            "Epoch [901/1000], Loss: 0.2545\n"
          ]
        },
        {
          "data": {
            "text/plain": [
              "tensor([79.9949, 87.9193, 76.2603, 70.3355, 79.6447, 89.3874, 89.4146],\n",
              "       grad_fn=<CatBackward0>)"
            ]
          },
          "execution_count": 5,
          "metadata": {},
          "output_type": "execute_result"
        }
      ],
      "source": [
        "model = RNN(4, 8, 1)\n",
        "criterion = nn.MSELoss()\n",
        "optimizer = optim.Adam(model.parameters(), lr = 0.01)\n",
        "epochs = 1000\n",
        "for epoch in range(epochs):\n",
        "    predictions = []  # List to accumulate predictions\n",
        "    ht = torch.zeros(8, dtype=torch.float32)\n",
        "    for d in data:\n",
        "        ht, prediction = model(d, ht)\n",
        "        predictions.append(prediction)\n",
        "\n",
        "    # Concatenate all predictions into a single tensor\n",
        "    predictions = torch.cat(predictions, dim=0)\n",
        "\n",
        "    loss = criterion(predictions, labels)\n",
        "\n",
        "    optimizer.zero_grad()\n",
        "    loss.backward()\n",
        "    optimizer.step()\n",
        "    if epoch % 100 ==0:\n",
        "      print(f'Epoch [{epoch + 1}/{epochs}], Loss: {loss.item():.4f}')\n",
        "predictions"
      ]
    },
    {
      "cell_type": "code",
      "execution_count": 66,
      "metadata": {
        "colab": {
          "base_uri": "https://localhost:8080/"
        },
        "id": "FuftvieXcQQb",
        "outputId": "d98c8ba0-7cbc-4ba6-df52-8b621288acf0"
      },
      "outputs": [
        {
          "data": {
            "text/plain": [
              "tensor([80., 88., 76., 71., 79., 90., 89.])"
            ]
          },
          "execution_count": 66,
          "metadata": {},
          "output_type": "execute_result"
        }
      ],
      "source": [
        "labels"
      ]
    }
  ],
  "metadata": {
    "colab": {
      "provenance": []
    },
    "kernelspec": {
      "display_name": "Python 3",
      "name": "python3"
    },
    "language_info": {
      "name": "python"
    }
  },
  "nbformat": 4,
  "nbformat_minor": 0
}
