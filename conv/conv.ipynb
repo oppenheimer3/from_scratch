{
  "nbformat": 4,
  "nbformat_minor": 0,
  "metadata": {
    "colab": {
      "provenance": []
    },
    "kernelspec": {
      "name": "python3",
      "display_name": "Python 3"
    },
    "language_info": {
      "name": "python"
    }
  },
  "cells": [
    {
      "cell_type": "code",
      "source": [
        "import torch\n",
        "import torch.nn as nn\n",
        "import torch.optim as optim"
      ],
      "metadata": {
        "id": "3yyGgR_GpZYu"
      },
      "execution_count": 5,
      "outputs": []
    },
    {
      "cell_type": "markdown",
      "source": [
        "custom convolution using fft"
      ],
      "metadata": {
        "id": "G6zKBoXOlw5w"
      }
    },
    {
      "cell_type": "code",
      "source": [
        "class Conv(nn.Module):\n",
        "  def __init__(self, k) -> None:\n",
        "    super().__init__()\n",
        "    self.kernel = nn.Parameter(torch.randn(k))\n",
        "  def forward(self, x):\n",
        "    fft_x = torch.fft.fft(x, n= len(x[0])+len(self.kernel)-1)\n",
        "    fft_kernel = torch.fft.fft(self.kernel, n= len(x[0])+len(self.kernel)-1)\n",
        "    return torch.abs(torch.fft.ifft(fft_kernel*fft_x))\n"
      ],
      "metadata": {
        "id": "wcgmJrV3z-Ht"
      },
      "execution_count": 21,
      "outputs": []
    },
    {
      "cell_type": "code",
      "source": [
        "data = torch.tensor([\n",
        "    [20.5, 21.0, 22.3, 23.1, 24.0, 22.7, 21.5, 20.8],\n",
        "    [22.0, 23.2, 24.1, 25.5, 26.3, 25.0, 24.2, 23.8],\n",
        "    [19.8, 20.3, 21.1, 20.5, 22.0, 22.8, 23.4, 22.7],\n",
        "    [24.5, 25.3, 26.0, 25.7, 26.8, 27.2, 27.8, 26.9],\n",
        "    [18.7, 19.2, 19.8, 20.5, 21.2, 20.9, 20.3, 19.7],\n",
        "], dtype= torch.float32)\n",
        "\n",
        "# Targets (temperatures for Day 8)\n",
        "targets = torch.tensor([21.3, 25.1, 22.3, 28.0, 19.5], dtype= torch.float32)"
      ],
      "metadata": {
        "id": "rK-9kxf_5GeA"
      },
      "execution_count": 22,
      "outputs": []
    },
    {
      "cell_type": "code",
      "source": [
        "class Model(nn.Module):\n",
        "  def __init__(self, *args, **kwargs) -> None:\n",
        "    super().__init__(*args, **kwargs)\n",
        "    self.l1 = nn.Linear(8, 16)\n",
        "    self.relu = nn.ReLU()\n",
        "    self.conv = Conv(4)\n",
        "    self.l2 = nn.Linear(19, 1)\n",
        "  def forward(self, x):\n",
        "    x = self.l1(x)\n",
        "    x = self.relu(x)\n",
        "    x = self.conv(x)\n",
        "    return self.l2(x)\n"
      ],
      "metadata": {
        "id": "NWZjoeIZ5h22"
      },
      "execution_count": 23,
      "outputs": []
    },
    {
      "cell_type": "code",
      "source": [
        "model = Model()\n",
        "criterion = nn.MSELoss()\n",
        "optimizer = optim.Adam(model.parameters(), lr = 0.01)\n",
        "epochs = 10000\n",
        "for i in range(epochs):\n",
        "  loss = criterion(model(data).view(len(data)), targets)\n",
        "  optimizer.zero_grad()\n",
        "  loss.backward()\n",
        "  optimizer.step()\n",
        "  if i % 1000 == 0:\n",
        "    print(loss)"
      ],
      "metadata": {
        "colab": {
          "base_uri": "https://localhost:8080/"
        },
        "id": "maDMeq8d6cwe",
        "outputId": "205ec5dc-cd07-4f4c-9ac1-d2022fa01a02"
      },
      "execution_count": 57,
      "outputs": [
        {
          "output_type": "stream",
          "name": "stdout",
          "text": [
            "tensor(186.1384, grad_fn=<MseLossBackward0>)\n",
            "tensor(0.1847, grad_fn=<MseLossBackward0>)\n",
            "tensor(0.0358, grad_fn=<MseLossBackward0>)\n",
            "tensor(0.0047, grad_fn=<MseLossBackward0>)\n",
            "tensor(0.0006, grad_fn=<MseLossBackward0>)\n",
            "tensor(0.0003, grad_fn=<MseLossBackward0>)\n",
            "tensor(0.0001, grad_fn=<MseLossBackward0>)\n",
            "tensor(0.0004, grad_fn=<MseLossBackward0>)\n",
            "tensor(4.5909e-05, grad_fn=<MseLossBackward0>)\n",
            "tensor(0.0010, grad_fn=<MseLossBackward0>)\n"
          ]
        }
      ]
    },
    {
      "cell_type": "code",
      "source": [
        "test_data = torch.tensor([\n",
        "    [21.2, 22.4, 23.6, 24.8, 25.9, 26.7, 27.2, 28.0],\n",
        "    [25.1, 26.3, 27.7, 28.4, 29.0, 29.8, 30.2, 31.0],\n",
        "    [20.5, 21.3, 22.6, 23.8, 24.5, 25.1, 26.0, 26.8],\n",
        "    [28.3, 29.5, 30.1, 31.2, 31.8, 32.5, 33.0, 34.2],\n",
        "    [19.0, 20.2, 21.6, 22.3, 23.0, 24.1, 25.0, 25.7],\n",
        "])\n",
        "with torch.no_grad():\n",
        "  print(model(test_data))\n",
        "# test_targets = np.array([28.7, 32.8, 27.5, 35.0, 24.8])"
      ],
      "metadata": {
        "id": "NQae118yj4N0",
        "outputId": "373e5dcd-d12f-493f-a98d-b6a5347d382d",
        "colab": {
          "base_uri": "https://localhost:8080/"
        }
      },
      "execution_count": 58,
      "outputs": [
        {
          "output_type": "stream",
          "name": "stdout",
          "text": [
            "tensor([[28.2597],\n",
            "        [32.1648],\n",
            "        [26.7476],\n",
            "        [35.9150],\n",
            "        [25.4856]])\n"
          ]
        }
      ]
    }
  ]
}