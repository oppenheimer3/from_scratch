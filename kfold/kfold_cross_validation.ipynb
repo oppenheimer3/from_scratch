{
 "cells": [
  {
   "cell_type": "markdown",
   "metadata": {},
   "source": [
    "## K-fold cross validation\n",
    "This is a simple implementation of the k-fold cross validation algorithm that help us estimate the generalization error when the dataset is small. where i have used linear regression as the learning algorithm and mean square error as the cost function.\n"
   ]
  },
  {
   "cell_type": "code",
   "execution_count": 2,
   "metadata": {},
   "outputs": [],
   "source": [
    "import numpy as np"
   ]
  },
  {
   "cell_type": "markdown",
   "metadata": {},
   "source": [
    "# The learning algorithm"
   ]
  },
  {
   "cell_type": "code",
   "execution_count": 3,
   "metadata": {},
   "outputs": [],
   "source": [
    "class LinearRegression:\n",
    "    weights = None\n",
    "\n",
    "    def train(self, X_train, y_train):\n",
    "        self.weights = np.linalg.inv(X_train.T @ X_train) @ X_train.T @ y_train\n",
    "    \n",
    "    def predict(self, X):\n",
    "        if self.weights.any():\n",
    "            return X @ self.weights\n",
    "        else: \n",
    "            raise ValueError(\"you need to train the model first\")"
   ]
  },
  {
   "cell_type": "markdown",
   "metadata": {},
   "source": [
    "# The cost function"
   ]
  },
  {
   "cell_type": "code",
   "execution_count": 4,
   "metadata": {},
   "outputs": [],
   "source": [
    "def mean_square_error(y, y_hat):\n",
    "    return np.linalg.norm(y_hat - y) ** 2"
   ]
  },
  {
   "cell_type": "markdown",
   "metadata": {},
   "source": [
    "# Train/validation loop"
   ]
  },
  {
   "cell_type": "code",
   "execution_count": 21,
   "metadata": {},
   "outputs": [
    {
     "name": "stdout",
     "output_type": "stream",
     "text": [
      "generalization error estimate: 0.42980439701228706\n"
     ]
    }
   ],
   "source": [
    "D = np.random.rand(30, 4)  #the given dataset(x, y) pair\n",
    "A = LinearRegression() #the learning algorithm\n",
    "l = mean_square_error #the cost function\n",
    "k = 10 #number of folds\n",
    "D = D.reshape(k, -1, D.shape[1]) #devide the dataset into k folds\n",
    "e = []\n",
    "for i in range(0, k):\n",
    "    d_val = D[i]  #set the validation data\n",
    "    d_train = np.delete(D, i, axis=0).reshape(-1, D.shape[2])  # set the train data\n",
    "    x_val = d_val[:, 0:D.shape[1]]   #split the validation data into x and y\n",
    "    y_val = d_val[:, D.shape[1]]\n",
    "    x_train = d_train[:, 0:D.shape[1]]   #split the train data into x and y\n",
    "    y_train = d_train[:, D.shape[1]]\n",
    "    A.train(x_train, y_train)  #train the algorithm on the train data\n",
    "    y_hat = A.predict(x_val)    #use the trained model to predict y validation\n",
    "    e_fold = l(y_val, y_hat)   # calculate the error of the prediction for the fold\n",
    "    e.append(e_fold)\n",
    "print(f'generalization error estimate: {np.mean(e)}') \n",
    "    \n"
   ]
  }
 ],
 "metadata": {
  "kernelspec": {
   "display_name": "Python 3",
   "language": "python",
   "name": "python3"
  },
  "language_info": {
   "codemirror_mode": {
    "name": "ipython",
    "version": 3
   },
   "file_extension": ".py",
   "mimetype": "text/x-python",
   "name": "python",
   "nbconvert_exporter": "python",
   "pygments_lexer": "ipython3",
   "version": "3.10.12"
  },
  "orig_nbformat": 4
 },
 "nbformat": 4,
 "nbformat_minor": 2
}
