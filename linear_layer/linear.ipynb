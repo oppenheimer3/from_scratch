{
 "cells": [
  {
   "cell_type": "markdown",
   "metadata": {},
   "source": [
    "# Pytorch linear layer\n",
    "\n",
    "For more info check: https://pytorch.org/docs/stable/generated/torch.nn.Linear.html"
   ]
  },
  {
   "cell_type": "code",
   "execution_count": 2,
   "metadata": {},
   "outputs": [],
   "source": [
    "# import torch\n",
    "# import torch.nn as nn\n",
    "# from torch.distributions.uniform import Uniform\n",
    "\n",
    "# class Linear(nn.Module):\n",
    "#   def __init__(self, in_features, out_features) -> None:\n",
    "#     super().__init__()\n",
    "#     self.in_features = in_features\n",
    "#     self.out_features = out_features\n",
    "#     self.u = Uniform(-1/torch.sqrt(in_features), 1/torch.sqrt(in_features))\n",
    "#     self.A = nn.Parameter(self.u.sample([out_features, in_features]))\n",
    "#     self.b = nn.Parameter(self.u.sample([out_features,]))\n",
    "\n",
    "#   def forward(self, x):\n",
    "#      self.output = x @ self.A.T + self.b\n",
    "#      return self.output\n",
    "  "
   ]
  }
 ],
 "metadata": {
  "kernelspec": {
   "display_name": "Python 3",
   "language": "python",
   "name": "python3"
  },
  "language_info": {
   "codemirror_mode": {
    "name": "ipython",
    "version": 3
   },
   "file_extension": ".py",
   "mimetype": "text/x-python",
   "name": "python",
   "nbconvert_exporter": "python",
   "pygments_lexer": "ipython3",
   "version": "3.10.12"
  },
  "orig_nbformat": 4
 },
 "nbformat": 4,
 "nbformat_minor": 2
}
